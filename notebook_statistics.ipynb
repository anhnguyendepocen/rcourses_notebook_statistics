{
 "cells": [
  {
   "cell_type": "markdown",
   "metadata": {},
   "source": [
    "## Preparations\n",
    "\n",
    "In this situation we want to use a linear model (LM) to estimate the univariate effect of `age` and `bmi`. \n",
    "\n",
    "## Data Import and Splitting\n",
    "\n",
    "We use the prepared dataset `insurance_final.csv`:"
   ]
  },
  {
   "cell_type": "code",
   "execution_count": null,
   "metadata": {},
   "outputs": [],
   "source": [
    "# With base R:\n",
    "insurance = read.csv(\"data/insurance_final.csv\")\n",
    "\n",
    "# Remove rows with missings:\n",
    "insurance = na.omit(insurance)"
   ]
  },
  {
   "cell_type": "markdown",
   "metadata": {},
   "source": [
    "Finally, we delete all features which does not contain information or are not allowed to use for modeling:"
   ]
  },
  {
   "cell_type": "code",
   "execution_count": null,
   "metadata": {},
   "outputs": [],
   "source": [
    "insurance = insurance[, -which(colnames(insurance) %in% c(\"id\", \"id2\", \"sex\", \"year\"))]"
   ]
  },
  {
   "cell_type": "markdown",
   "metadata": {},
   "source": [
    "## Univariate Effects\n",
    "\n",
    "Firstly we fit a LM containing the single effects and interaction term of `age` and `bmi`:"
   ]
  },
  {
   "cell_type": "code",
   "execution_count": null,
   "metadata": {},
   "outputs": [],
   "source": [
    "lin_mod = lm(charges ~ age:bmi + ., data = insurance)"
   ]
  },
  {
   "cell_type": "markdown",
   "metadata": {},
   "source": [
    "## Parameter Interpretation"
   ]
  },
  {
   "cell_type": "code",
   "execution_count": null,
   "metadata": {},
   "outputs": [],
   "source": [
    "summary(lin_mod)"
   ]
  },
  {
   "cell_type": "markdown",
   "metadata": {},
   "source": [
    "- `age` and `bmi` are significantly different to 0\n",
    "- There is no interaction between `age` and `bmi`\n",
    "- The effect is as expected: with higher `age` and `bmi` the claims are higher\n",
    "\n",
    "## Univariate Effects"
   ]
  },
  {
   "cell_type": "code",
   "execution_count": null,
   "metadata": {},
   "outputs": [],
   "source": [
    "# Create sequence for prediction:\n",
    "x_age = seq(min(insurance$age), max(insurance$age), length.out = 100)\n",
    "x_bmi = seq(min(insurance$bmi), max(insurance$bmi), length.out = 100)\n",
    "\n",
    "# Create data frame with fit and original values:\n",
    "params = coef(lin_mod)\n",
    "df_plot = data.frame(age = x_age, fit_age = x_age * params[\"age\"] + params[\"(Intercept)\"],\n",
    "  bmi = x_bmi, fit_bmi = x_bmi * params[\"bmi\"] + params[\"(Intercept)\"])\n",
    "\n",
    "# Visualize age:\n",
    "gg1 = ggplot() + \n",
    "  geom_hline(yintercept = 0, col = \"red\", alpha = 0.3, linetype = \"dashed\") +\n",
    "  geom_line(data = df_plot, mapping = aes(x = age, y = fit_age), col = \"purple\") +\n",
    "  geom_rug(data = insurance, mapping = aes(x = age), alpha = 0.2) +\n",
    "  xlab(\"Age\") + ylab(\"Additive Contribution to Prediction\")\n",
    "\n",
    "# Visualize bmi:\n",
    "gg2 = ggplot() + \n",
    "  geom_hline(yintercept = 0, col = \"red\", alpha = 0.3, linetype = \"dashed\") +\n",
    "  geom_line(data = df_plot, mapping = aes(x = bmi, y = fit_bmi), col = \"purple\") +\n",
    "  geom_rug(data = insurance, mapping = aes(x = bmi), alpha = 0.2) +\n",
    "  xlab(\"BMI\") + ylab(\"Additive Contribution to Prediction\")\n",
    "\n",
    "# Put both graphics into one:\n",
    "gridExtra::grid.arrange(gg1, gg2, ncol = 2)"
   ]
  }
 ],
 "metadata": {},
 "nbformat": 4,
 "nbformat_minor": 2
}
